{
 "cells": [
  {
   "cell_type": "markdown",
   "metadata": {},
   "source": [
    "# License\n",
    "\n",
    "    Jupyter notebook for accessing CUDA\n",
    "    Copyright (C) 2018 Andre.Brodtkorb@ifi.uio.no\n",
    "\n",
    "    This program is free software: you can redistribute it and/or modify\n",
    "    it under the terms of the GNU General Public License as published by\n",
    "    the Free Software Foundation, either version 3 of the License, or\n",
    "    (at your option) any later version.\n",
    "\n",
    "    This program is distributed in the hope that it will be useful,\n",
    "    but WITHOUT ANY WARRANTY; without even the implied warranty of\n",
    "    MERCHANTABILITY or FITNESS FOR A PARTICULAR PURPOSE.  See the\n",
    "    GNU General Public License for more details.\n",
    "\n",
    "    You should have received a copy of the GNU General Public License\n",
    "    along with this program.  If not, see <http://www.gnu.org/licenses/>."
   ]
  },
  {
   "cell_type": "code",
   "execution_count": 1,
   "metadata": {},
   "outputs": [],
   "source": [
    "#Lets have matplotlib \"inline\"\n",
    "%matplotlib inline\n",
    "\n",
    "#Import packages we need\n",
    "import numpy as np\n",
    "import pycuda.compiler as cuda_compiler\n",
    "from pycuda.gpuarray import GPUArray\n",
    "import pycuda.driver as cuda_driver\n",
    "\n",
    "from matplotlib import pyplot as plt"
   ]
  },
  {
   "cell_type": "code",
   "execution_count": 2,
   "metadata": {},
   "outputs": [],
   "source": [
    "#Initialize CUDA - must be first call to CUDA!\n",
    "cuda_driver.init()"
   ]
  },
  {
   "cell_type": "code",
   "execution_count": 3,
   "metadata": {},
   "outputs": [
    {
     "name": "stdout",
     "output_type": "stream",
     "text": [
      "Using 'Tesla K80'\n",
      " => compute capability: (3, 7)\n",
      " => memory: 11002 / 11441 MB available\n"
     ]
    }
   ],
   "source": [
    "#Create CUDA context\n",
    "cuda_device = cuda_driver.Device(0)\n",
    "print(\"Using '{:s}'\".format(cuda_device.name()))\n",
    "print(\" => compute capability: {:s}\".format(str(cuda_device.compute_capability())))\n",
    "context = cuda_device.make_context()\n",
    "free, total = cuda_driver.mem_get_info()\n",
    "print(\" => memory: {:d} / {:d} MB available\".format(int(free/(1024*1024)), int(total/(1024*1024))))"
   ]
  },
  {
   "cell_type": "code",
   "execution_count": 9,
   "metadata": {},
   "outputs": [],
   "source": [
    "cuda_kernel = \"\"\"\n",
    "__global__ void addVectorKernel(float* c, float* a, float* b) {\n",
    "    unsigned int i = blockIdx.x*blockDim.x + threadIdx.x;\n",
    "    c[i] = a[i] + b[i];\n",
    "}\n",
    "\n",
    "__global__ void addMatrixKernel(float* c, float* a, float* b, int cols) {\n",
    "    unsigned int i=blockIdx.x*blockDim.x+threadIdx.x;\n",
    "    unsigned int j=blockIdx.y*blockDim.y+threadIdx.y;\n",
    "    \n",
    "    //Pseudocode\n",
    "    //c[j][i]=a[j][a]+b[j][i]\n",
    "    unsigned int k=j*cols+i;\n",
    "    \n",
    "    c[k]=a[k]+b[k];\n",
    "}\n",
    "\"\"\"\n",
    "module = cuda_compiler.SourceModule(cuda_kernel)\n",
    "kernel = module.get_function(\"addMatrixKernel\");"
   ]
  },
  {
   "cell_type": "code",
   "execution_count": 13,
   "metadata": {},
   "outputs": [
    {
     "data": {
      "image/png": "[encoded data removed]",
      "text/plain": [
       "<matplotlib.figure.Figure at 0x7f70283a1518>"
      ]
     },
     "metadata": {
      "needs_background": "light"
     },
     "output_type": "display_data"
    }
   ],
   "source": [
    "#Size of our test\n",
    "test_size = (16,24)\n",
    "\n",
    "#Create test input / output data\n",
    "a = np.random.random(test_size).astype(np.float32)\n",
    "b = np.random.random(test_size).astype(np.float32)\n",
    "c = np.empty_like(a)\n",
    "\n",
    "fig=plt.figure(figsize=(12,8))\n",
    "plt.imshow(a)\n",
    "plt.colorbar()\n",
    "fig.show()\n",
    "               "
   ]
  },
  {
   "cell_type": "code",
   "execution_count": 14,
   "metadata": {},
   "outputs": [
    {
     "name": "stdout",
     "output_type": "stream",
     "text": [
      "(16, 24)\n"
     ]
    }
   ],
   "source": [
    "print(a.shape)"
   ]
  },
  {
   "cell_type": "code",
   "execution_count": 15,
   "metadata": {},
   "outputs": [],
   "source": [
    "#Upload data to the device\n",
    "a_g = GPUArray(a.shape, np.float32)\n",
    "b_g = GPUArray(b.shape, np.float32)\n",
    "a_g.set(a)\n",
    "b_g.set(b)"
   ]
  },
  {
   "cell_type": "code",
   "execution_count": 16,
   "metadata": {},
   "outputs": [],
   "source": [
    "#Allocate output data\n",
    "c_g = GPUArray(c.shape, np.float32)"
   ]
  },
  {
   "cell_type": "code",
   "execution_count": 31,
   "metadata": {},
   "outputs": [
    {
     "name": "stdout",
     "output_type": "stream",
     "text": [
      "(16, 24)\n",
      "(24, 16)\n",
      "Domain size is(24, 16)\n",
      "Block size is(8, 4, 1)\n",
      "Grid size is(3, 4, 1)\n"
     ]
    }
   ],
   "source": [
    "#a.shape=(row, cols)\n",
    "domain_size=(a.shape[0], a.shape[1])\n",
    "print(a.shape)\n",
    "print(domain_size)\n",
    "block_size=(8, 4, 1)\n",
    "grid_size=(domain_size[0]//block_size[0], domain_size[1]//block_size[1], 1)\n",
    "\n",
    "print(\"Domain size is\" + str(domain_size))\n",
    "print(\"Block size is\" + str(block_size))\n",
    "print(\"Grid size is\" + str(grid_size))"
   ]
  },
  {
   "cell_type": "code",
   "execution_count": 34,
   "metadata": {},
   "outputs": [
    {
     "data": {
      "text/plain": [
       "array([[0.84603274, 1.0539024 , 0.9365161 , 0.6291928 , 1.1104126 ,\n",
       "        0.52397305, 0.20699261, 1.1931462 , 0.54723006, 1.4329891 ,\n",
       "        0.88215595, 1.5130227 , 1.5361316 , 1.5011942 , 1.2865348 ,\n",
       "        0.90680075, 0.40705273, 1.4599257 , 0.9306183 , 1.0076197 ,\n",
       "        0.82014996, 1.5069833 , 1.0449607 , 1.27523   ],\n",
       "       [1.0185004 , 1.2940122 , 1.1965754 , 1.1009394 , 0.99369544,\n",
       "        0.7203448 , 0.28731978, 0.7468431 , 0.91450584, 0.8789568 ,\n",
       "        0.87932193, 0.8956412 , 1.1066272 , 0.79567564, 0.1721309 ,\n",
       "        1.0891508 , 0.9600228 , 1.2431258 , 1.0959761 , 1.0874974 ,\n",
       "        1.0113878 , 1.8739963 , 0.72278714, 1.1736696 ],\n",
       "       [1.1027347 , 0.52299386, 1.0575439 , 0.60540354, 0.90471834,\n",
       "        0.68210983, 1.5616913 , 0.9761215 , 0.81280833, 0.8316835 ,\n",
       "        0.8947575 , 1.2412565 , 1.136451  , 1.1206322 , 1.1401925 ,\n",
       "        0.7220592 , 0.53286654, 1.6088588 , 0.6944813 , 1.3032582 ,\n",
       "        1.5402037 , 0.5168835 , 1.4199255 , 1.3113451 ],\n",
       "       [1.4874907 , 1.2603726 , 0.8645607 , 1.1368803 , 1.0060992 ,\n",
       "        1.4472818 , 0.7175075 , 1.5175085 , 0.7659029 , 0.3272106 ,\n",
       "        0.55595756, 0.3753777 , 1.7576652 , 1.1893299 , 0.7462085 ,\n",
       "        1.0330787 , 1.066292  , 1.1660664 , 1.1394821 , 1.3961917 ,\n",
       "        1.3619947 , 0.20826367, 0.9943526 , 0.4459824 ],\n",
       "       [0.3079438 , 1.4090257 , 0.87550706, 1.3778968 , 0.9135653 ,\n",
       "        1.2414027 , 0.69478065, 0.9722314 , 1.3941896 , 0.5946932 ,\n",
       "        1.8593669 , 0.63318306, 0.92534006, 0.85154223, 0.41211784,\n",
       "        1.2725909 , 0.834904  , 1.0004472 , 0.2289241 , 0.52554756,\n",
       "        0.9588903 , 0.8387259 , 0.6116694 , 1.5707314 ],\n",
       "       [1.1243258 , 1.0825058 , 0.39060622, 1.5166551 , 1.2136338 ,\n",
       "        1.0338436 , 1.3716679 , 0.8676114 , 1.0404875 , 1.5644356 ,\n",
       "        1.0171885 , 0.96749085, 1.1000527 , 0.33052772, 0.35447818,\n",
       "        0.4053983 , 0.77179295, 1.3439658 , 1.2407088 , 0.40770113,\n",
       "        1.4014843 , 1.6019154 , 1.4282812 , 1.1224506 ],\n",
       "       [1.1840667 , 1.0327934 , 0.4796631 , 0.43219316, 1.3413472 ,\n",
       "        1.3659973 , 1.1592515 , 0.828564  , 1.183676  , 0.61399084,\n",
       "        1.4786243 , 0.94602704, 1.1351926 , 1.5175173 , 1.2071028 ,\n",
       "        1.3257325 , 0.62130576, 0.63816744, 0.927621  , 1.0948281 ,\n",
       "        1.2149655 , 1.0286354 , 1.291517  , 1.1734087 ],\n",
       "       [1.6890494 , 0.5962846 , 1.4764782 , 1.4867718 , 1.0820673 ,\n",
       "        1.3166963 , 0.6436547 , 1.3200396 , 1.5544779 , 0.8843577 ,\n",
       "        1.0264496 , 0.47338519, 0.82630527, 1.5306847 , 1.0794463 ,\n",
       "        0.10747506, 0.9503956 , 1.4093518 , 0.5828794 , 0.98976666,\n",
       "        0.96021247, 0.11753896, 0.9802978 , 1.4838567 ],\n",
       "       [0.3846562 , 1.7404953 , 1.8025978 , 1.6512867 , 0.6656644 ,\n",
       "        1.8100252 , 1.7056487 , 1.4109268 , 1.0257007 , 0.7251303 ,\n",
       "        1.6708734 , 0.57069457, 1.0336064 , 1.2335556 , 1.4042763 ,\n",
       "        1.4478348 , 1.4645405 , 1.2334539 , 1.4054588 , 0.14361115,\n",
       "        1.1795756 , 0.9011771 , 1.141315  , 0.38926953],\n",
       "       [1.060855  , 1.4304216 , 1.7205007 , 1.3394712 , 0.8609129 ,\n",
       "        0.34638602, 1.2850859 , 0.11598553, 0.11432575, 0.4342714 ,\n",
       "        1.6493108 , 1.0367364 , 1.0380754 , 0.21186283, 1.4619172 ,\n",
       "        0.71377796, 1.0551646 , 0.83680993, 1.4152493 , 1.8354434 ,\n",
       "        1.1016455 , 0.9551597 , 1.232554  , 1.298743  ],\n",
       "       [1.587033  , 1.5763412 , 1.3810642 , 0.91796887, 0.7007013 ,\n",
       "        1.4390554 , 1.3562484 , 1.7876971 , 1.5788302 , 1.6766332 ,\n",
       "        0.72867453, 0.68113935, 0.66175044, 0.6543844 , 0.7692216 ,\n",
       "        1.4572827 , 0.87287104, 0.43729076, 1.4404589 , 0.7006588 ,\n",
       "        1.5905564 , 0.6956154 , 1.1488845 , 1.3379916 ],\n",
       "       [0.6322204 , 1.2703822 , 1.0597191 , 1.2233961 , 1.139011  ,\n",
       "        1.0136454 , 1.3114433 , 0.4955314 , 0.35368985, 1.4704144 ,\n",
       "        0.8384338 , 0.7812628 , 1.7095153 , 0.45024773, 0.5082935 ,\n",
       "        1.7032125 , 1.8626919 , 1.1066704 , 0.9264692 , 0.70328736,\n",
       "        1.4829822 , 1.5150604 , 1.1476882 , 1.4607913 ],\n",
       "       [1.4687304 , 1.2933272 , 1.4899814 , 0.8895561 , 0.31933883,\n",
       "        1.3863871 , 1.0622306 , 1.0244275 , 0.88315547, 0.9196143 ,\n",
       "        0.6090829 , 0.8943833 , 0.4570313 , 1.4401287 , 1.2213163 ,\n",
       "        0.3716713 , 0.9966444 , 1.5957236 , 1.1359494 , 0.37672114,\n",
       "        0.7150493 , 0.65741324, 0.69029844, 0.73602194],\n",
       "       [0.97181904, 1.2029294 , 1.26315   , 0.8702431 , 1.0803213 ,\n",
       "        0.72453165, 0.26419258, 0.25609595, 1.157516  , 1.5185628 ,\n",
       "        0.6773858 , 0.5650103 , 1.1648383 , 0.744395  , 1.1432543 ,\n",
       "        1.424291  , 0.73062575, 0.59644365, 1.8971864 , 0.8978268 ,\n",
       "        1.0213314 , 1.3306639 , 1.5417628 , 1.0326228 ],\n",
       "       [0.32490987, 1.7257779 , 0.89575624, 0.6408015 , 1.0988485 ,\n",
       "        0.5561118 , 0.6219262 , 0.97773737, 1.0858157 , 0.5619881 ,\n",
       "        0.91612303, 1.5432945 , 1.5800433 , 1.2099986 , 1.2718526 ,\n",
       "        0.5659207 , 1.175156  , 1.7373273 , 0.63139355, 1.1031878 ,\n",
       "        1.0884851 , 1.4890356 , 1.0820965 , 1.5430541 ],\n",
       "       [1.8413829 , 0.5050492 , 1.4750811 , 1.1740897 , 0.36716127,\n",
       "        1.1157994 , 0.5806209 , 1.1812499 , 0.9502123 , 1.307948  ,\n",
       "        1.3025577 , 1.3258792 , 1.210842  , 1.27911   , 1.1103271 ,\n",
       "        0.33128765, 1.5064707 , 0.546932  , 0.9218576 , 1.1954232 ,\n",
       "        0.1296898 , 1.40152   , 1.2777703 , 0.06888175]], dtype=float32)"
      ]
     },
     "execution_count": 34,
     "metadata": {},
     "output_type": "execute_result"
    }
   ],
   "source": [
    "#Execute program on device\n",
    "kernel(c_g, a_g, b_g, np.int32(domain_size[1]), block=block_size, grid=grid_size)\n",
    "\n",
    "#Copy data from device to host\n",
    "c_g.get(c)"
   ]
  },
  {
   "cell_type": "code",
   "execution_count": 35,
   "metadata": {},
   "outputs": [
    {
     "name": "stdout",
     "output_type": "stream",
     "text": [
      "C   =  [[0.84603274 1.0539024  0.9365161  0.6291928  1.1104126  0.52397305\n",
      "  0.20699261 1.1931462  0.54723006 1.4329891  0.88215595 1.5130227\n",
      "  1.5361316  1.5011942  1.2865348  0.90680075 0.40705273 1.4599257\n",
      "  0.9306183  1.0076197  0.82014996 1.5069833  1.0449607  1.27523   ]\n",
      " [1.0185004  1.2940122  1.1965754  1.1009394  0.99369544 0.7203448\n",
      "  0.28731978 0.7468431  0.91450584 0.8789568  0.87932193 0.8956412\n",
      "  1.1066272  0.79567564 0.1721309  1.0891508  0.9600228  1.2431258\n",
      "  1.0959761  1.0874974  1.0113878  1.8739963  0.72278714 1.1736696 ]\n",
      " [1.1027347  0.52299386 1.0575439  0.60540354 0.90471834 0.68210983\n",
      "  1.5616913  0.9761215  0.81280833 0.8316835  0.8947575  1.2412565\n",
      "  1.136451   1.1206322  1.1401925  0.7220592  0.53286654 1.6088588\n",
      "  0.6944813  1.3032582  1.5402037  0.5168835  1.4199255  1.3113451 ]\n",
      " [1.4874907  1.2603726  0.8645607  1.1368803  1.0060992  1.4472818\n",
      "  0.7175075  1.5175085  0.7659029  0.3272106  0.55595756 0.3753777\n",
      "  1.7576652  1.1893299  0.7462085  1.0330787  1.066292   1.1660664\n",
      "  1.1394821  1.3961917  1.3619947  0.20826367 0.9943526  0.4459824 ]\n",
      " [0.3079438  1.4090257  0.87550706 1.3778968  0.9135653  1.2414027\n",
      "  0.69478065 0.9722314  1.3941896  0.5946932  1.8593669  0.63318306\n",
      "  0.92534006 0.85154223 0.41211784 1.2725909  0.834904   1.0004472\n",
      "  0.2289241  0.52554756 0.9588903  0.8387259  0.6116694  1.5707314 ]\n",
      " [1.1243258  1.0825058  0.39060622 1.5166551  1.2136338  1.0338436\n",
      "  1.3716679  0.8676114  1.0404875  1.5644356  1.0171885  0.96749085\n",
      "  1.1000527  0.33052772 0.35447818 0.4053983  0.77179295 1.3439658\n",
      "  1.2407088  0.40770113 1.4014843  1.6019154  1.4282812  1.1224506 ]\n",
      " [1.1840667  1.0327934  0.4796631  0.43219316 1.3413472  1.3659973\n",
      "  1.1592515  0.828564   1.183676   0.61399084 1.4786243  0.94602704\n",
      "  1.1351926  1.5175173  1.2071028  1.3257325  0.62130576 0.63816744\n",
      "  0.927621   1.0948281  1.2149655  1.0286354  1.291517   1.1734087 ]\n",
      " [1.6890494  0.5962846  1.4764782  1.4867718  1.0820673  1.3166963\n",
      "  0.6436547  1.3200396  1.5544779  0.8843577  1.0264496  0.47338519\n",
      "  0.82630527 1.5306847  1.0794463  0.10747506 0.9503956  1.4093518\n",
      "  0.5828794  0.98976666 0.96021247 0.11753896 0.9802978  1.4838567 ]\n",
      " [0.3846562  1.7404953  1.8025978  1.6512867  0.6656644  1.8100252\n",
      "  1.7056487  1.4109268  1.0257007  0.7251303  1.6708734  0.57069457\n",
      "  1.0336064  1.2335556  1.4042763  1.4478348  1.4645405  1.2334539\n",
      "  1.4054588  0.14361115 1.1795756  0.9011771  1.141315   0.38926953]\n",
      " [1.060855   1.4304216  1.7205007  1.3394712  0.8609129  0.34638602\n",
      "  1.2850859  0.11598553 0.11432575 0.4342714  1.6493108  1.0367364\n",
      "  1.0380754  0.21186283 1.4619172  0.71377796 1.0551646  0.83680993\n",
      "  1.4152493  1.8354434  1.1016455  0.9551597  1.232554   1.298743  ]\n",
      " [1.587033   1.5763412  1.3810642  0.91796887 0.7007013  1.4390554\n",
      "  1.3562484  1.7876971  1.5788302  1.6766332  0.72867453 0.68113935\n",
      "  0.66175044 0.6543844  0.7692216  1.4572827  0.87287104 0.43729076\n",
      "  1.4404589  0.7006588  1.5905564  0.6956154  1.1488845  1.3379916 ]\n",
      " [0.6322204  1.2703822  1.0597191  1.2233961  1.139011   1.0136454\n",
      "  1.3114433  0.4955314  0.35368985 1.4704144  0.8384338  0.7812628\n",
      "  1.7095153  0.45024773 0.5082935  1.7032125  1.8626919  1.1066704\n",
      "  0.9264692  0.70328736 1.4829822  1.5150604  1.1476882  1.4607913 ]\n",
      " [1.4687304  1.2933272  1.4899814  0.8895561  0.31933883 1.3863871\n",
      "  1.0622306  1.0244275  0.88315547 0.9196143  0.6090829  0.8943833\n",
      "  0.4570313  1.4401287  1.2213163  0.3716713  0.9966444  1.5957236\n",
      "  1.1359494  0.37672114 0.7150493  0.65741324 0.69029844 0.73602194]\n",
      " [0.97181904 1.2029294  1.26315    0.8702431  1.0803213  0.72453165\n",
      "  0.26419258 0.25609595 1.157516   1.5185628  0.6773858  0.5650103\n",
      "  1.1648383  0.744395   1.1432543  1.424291   0.73062575 0.59644365\n",
      "  1.8971864  0.8978268  1.0213314  1.3306639  1.5417628  1.0326228 ]\n",
      " [0.32490987 1.7257779  0.89575624 0.6408015  1.0988485  0.5561118\n",
      "  0.6219262  0.97773737 1.0858157  0.5619881  0.91612303 1.5432945\n",
      "  1.5800433  1.2099986  1.2718526  0.5659207  1.175156   1.7373273\n",
      "  0.63139355 1.1031878  1.0884851  1.4890356  1.0820965  1.5430541 ]\n",
      " [1.8413829  0.5050492  1.4750811  1.1740897  0.36716127 1.1157994\n",
      "  0.5806209  1.1812499  0.9502123  1.307948   1.3025577  1.3258792\n",
      "  1.210842   1.27911    1.1103271  0.33128765 1.5064707  0.546932\n",
      "  0.9218576  1.1954232  0.1296898  1.40152    1.2777703  0.06888175]]\n",
      "Ref =  [[0.84603274 1.0539024  0.9365161  0.6291928  1.1104126  0.52397305\n",
      "  0.20699261 1.1931462  0.54723006 1.4329891  0.88215595 1.5130227\n",
      "  1.5361316  1.5011942  1.2865348  0.90680075 0.40705273 1.4599257\n",
      "  0.9306183  1.0076197  0.82014996 1.5069833  1.0449607  1.27523   ]\n",
      " [1.0185004  1.2940122  1.1965754  1.1009394  0.99369544 0.7203448\n",
      "  0.28731978 0.7468431  0.91450584 0.8789568  0.87932193 0.8956412\n",
      "  1.1066272  0.79567564 0.1721309  1.0891508  0.9600228  1.2431258\n",
      "  1.0959761  1.0874974  1.0113878  1.8739963  0.72278714 1.1736696 ]\n",
      " [1.1027347  0.52299386 1.0575439  0.60540354 0.90471834 0.68210983\n",
      "  1.5616913  0.9761215  0.81280833 0.8316835  0.8947575  1.2412565\n",
      "  1.136451   1.1206322  1.1401925  0.7220592  0.53286654 1.6088588\n",
      "  0.6944813  1.3032582  1.5402037  0.5168835  1.4199255  1.3113451 ]\n",
      " [1.4874907  1.2603726  0.8645607  1.1368803  1.0060992  1.4472818\n",
      "  0.7175075  1.5175085  0.7659029  0.3272106  0.55595756 0.3753777\n",
      "  1.7576652  1.1893299  0.7462085  1.0330787  1.066292   1.1660664\n",
      "  1.1394821  1.3961917  1.3619947  0.20826367 0.9943526  0.4459824 ]\n",
      " [0.3079438  1.4090257  0.87550706 1.3778968  0.9135653  1.2414027\n",
      "  0.69478065 0.9722314  1.3941896  0.5946932  1.8593669  0.63318306\n",
      "  0.92534006 0.85154223 0.41211784 1.2725909  0.834904   1.0004472\n",
      "  0.2289241  0.52554756 0.9588903  0.8387259  0.6116694  1.5707314 ]\n",
      " [1.1243258  1.0825058  0.39060622 1.5166551  1.2136338  1.0338436\n",
      "  1.3716679  0.8676114  1.0404875  1.5644356  1.0171885  0.96749085\n",
      "  1.1000527  0.33052772 0.35447818 0.4053983  0.77179295 1.3439658\n",
      "  1.2407088  0.40770113 1.4014843  1.6019154  1.4282812  1.1224506 ]\n",
      " [1.1840667  1.0327934  0.4796631  0.43219316 1.3413472  1.3659973\n",
      "  1.1592515  0.828564   1.183676   0.61399084 1.4786243  0.94602704\n",
      "  1.1351926  1.5175173  1.2071028  1.3257325  0.62130576 0.63816744\n",
      "  0.927621   1.0948281  1.2149655  1.0286354  1.291517   1.1734087 ]\n",
      " [1.6890494  0.5962846  1.4764782  1.4867718  1.0820673  1.3166963\n",
      "  0.6436547  1.3200396  1.5544779  0.8843577  1.0264496  0.47338519\n",
      "  0.82630527 1.5306847  1.0794463  0.10747506 0.9503956  1.4093518\n",
      "  0.5828794  0.98976666 0.96021247 0.11753896 0.9802978  1.4838567 ]\n",
      " [0.3846562  1.7404953  1.8025978  1.6512867  0.6656644  1.8100252\n",
      "  1.7056487  1.4109268  1.0257007  0.7251303  1.6708734  0.57069457\n",
      "  1.0336064  1.2335556  1.4042763  1.4478348  1.4645405  1.2334539\n",
      "  1.4054588  0.14361115 1.1795756  0.9011771  1.141315   0.38926953]\n",
      " [1.060855   1.4304216  1.7205007  1.3394712  0.8609129  0.34638602\n",
      "  1.2850859  0.11598553 0.11432575 0.4342714  1.6493108  1.0367364\n",
      "  1.0380754  0.21186283 1.4619172  0.71377796 1.0551646  0.83680993\n",
      "  1.4152493  1.8354434  1.1016455  0.9551597  1.232554   1.298743  ]\n",
      " [1.587033   1.5763412  1.3810642  0.91796887 0.7007013  1.4390554\n",
      "  1.3562484  1.7876971  1.5788302  1.6766332  0.72867453 0.68113935\n",
      "  0.66175044 0.6543844  0.7692216  1.4572827  0.87287104 0.43729076\n",
      "  1.4404589  0.7006588  1.5905564  0.6956154  1.1488845  1.3379916 ]\n",
      " [0.6322204  1.2703822  1.0597191  1.2233961  1.139011   1.0136454\n",
      "  1.3114433  0.4955314  0.35368985 1.4704144  0.8384338  0.7812628\n",
      "  1.7095153  0.45024773 0.5082935  1.7032125  1.8626919  1.1066704\n",
      "  0.9264692  0.70328736 1.4829822  1.5150604  1.1476882  1.4607913 ]\n",
      " [1.4687304  1.2933272  1.4899814  0.8895561  0.31933883 1.3863871\n",
      "  1.0622306  1.0244275  0.88315547 0.9196143  0.6090829  0.8943833\n",
      "  0.4570313  1.4401287  1.2213163  0.3716713  0.9966444  1.5957236\n",
      "  1.1359494  0.37672114 0.7150493  0.65741324 0.69029844 0.73602194]\n",
      " [0.97181904 1.2029294  1.26315    0.8702431  1.0803213  0.72453165\n",
      "  0.26419258 0.25609595 1.157516   1.5185628  0.6773858  0.5650103\n",
      "  1.1648383  0.744395   1.1432543  1.424291   0.73062575 0.59644365\n",
      "  1.8971864  0.8978268  1.0213314  1.3306639  1.5417628  1.0326228 ]\n",
      " [0.32490987 1.7257779  0.89575624 0.6408015  1.0988485  0.5561118\n",
      "  0.6219262  0.97773737 1.0858157  0.5619881  0.91612303 1.5432945\n",
      "  1.5800433  1.2099986  1.2718526  0.5659207  1.175156   1.7373273\n",
      "  0.63139355 1.1031878  1.0884851  1.4890356  1.0820965  1.5430541 ]\n",
      " [1.8413829  0.5050492  1.4750811  1.1740897  0.36716127 1.1157994\n",
      "  0.5806209  1.1812499  0.9502123  1.307948   1.3025577  1.3258792\n",
      "  1.210842   1.27911    1.1103271  0.33128765 1.5064707  0.546932\n",
      "  0.9218576  1.1954232  0.1296898  1.40152    1.2777703  0.06888175]]\n",
      "Sad =  0.0\n"
     ]
    }
   ],
   "source": [
    "#Compute reference using Numpy\n",
    "c_ref = a + b\n",
    "\n",
    "#Print result\n",
    "print(\"C   = \", c)\n",
    "print(\"Ref = \", c_ref)\n",
    "print(\"Sad = \", np.sum(np.abs(c - c_ref)))"
   ]
  },
  {
   "cell_type": "code",
   "execution_count": 30,
   "metadata": {},
   "outputs": [
    {
     "data": {
      "text/plain": [
       "<matplotlib.image.AxesImage at 0x7f702816fe80>"
      ]
     },
     "execution_count": 30,
     "metadata": {},
     "output_type": "execute_result"
    },
    {
     "data": {
      "image/png": "[encoded data removed]",
      "text/plain": [
       "<matplotlib.figure.Figure at 0x7f70281fab00>"
      ]
     },
     "metadata": {
      "needs_background": "light"
     },
     "output_type": "display_data"
    }
   ],
   "source": [
    "plt.figure()\n",
    "\n",
    "plt.subplot(1,2,1)\n",
    "plt.imshow(c)\n",
    "plt.subplot(1,2,2)\n",
    "plt.imshow(c_ref)"
   ]
  },
  {
   "cell_type": "code",
   "execution_count": null,
   "metadata": {},
   "outputs": [],
   "source": []
  }
 ],
 "metadata": {
  "kernelspec": {
   "display_name": "Python 3",
   "language": "python",
   "name": "python3"
  },
  "language_info": {
   "codemirror_mode": {
    "name": "ipython",
    "version": 3
   },
   "file_extension": ".py",
   "mimetype": "text/x-python",
   "name": "python",
   "nbconvert_exporter": "python",
   "pygments_lexer": "ipython3",
   "version": "3.6.6"
  }
 },
 "nbformat": 4,
 "nbformat_minor": 2
}
