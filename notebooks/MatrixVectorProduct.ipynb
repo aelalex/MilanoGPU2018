{
 "cells": [
  {
   "cell_type": "markdown",
   "metadata": {},
   "source": [
    "# License\n",
    "\n",
    "    Jupyter notebook for accessing CUDA\n",
    "    Copyright (C) 2018 Andre.Brodtkorb@ifi.uio.no\n",
    "\n",
    "    This program is free software: you can redistribute it and/or modify\n",
    "    it under the terms of the GNU General Public License as published by\n",
    "    the Free Software Foundation, either version 3 of the License, or\n",
    "    (at your option) any later version.\n",
    "\n",
    "    This program is distributed in the hope that it will be useful,\n",
    "    but WITHOUT ANY WARRANTY; without even the implied warranty of\n",
    "    MERCHANTABILITY or FITNESS FOR A PARTICULAR PURPOSE.  See the\n",
    "    GNU General Public License for more details.\n",
    "\n",
    "    You should have received a copy of the GNU General Public License\n",
    "    along with this program.  If not, see <http://www.gnu.org/licenses/>."
   ]
  },
  {
   "cell_type": "code",
   "execution_count": 25,
   "metadata": {},
   "outputs": [],
   "source": [
    "#Lets have matplotlib \"inline\"\n",
    "%matplotlib inline\n",
    "\n",
    "#Import packages we need\n",
    "import numpy as np\n",
    "import pycuda.compiler as cuda_compiler\n",
    "from pycuda.gpuarray import GPUArray\n",
    "import pycuda.driver as cuda_driver\n",
    "\n",
    "from matplotlib import pyplot as plt"
   ]
  },
  {
   "cell_type": "code",
   "execution_count": 26,
   "metadata": {},
   "outputs": [],
   "source": [
    "#Initialize CUDA - must be first call to CUDA!\n",
    "cuda_driver.init()"
   ]
  },
  {
   "cell_type": "code",
   "execution_count": 27,
   "metadata": {},
   "outputs": [
    {
     "name": "stdout",
     "output_type": "stream",
     "text": [
      "Using 'Tesla K80'\n",
      " => compute capability: (3, 7)\n",
      " => memory: 9911 / 11441 MB available\n"
     ]
    }
   ],
   "source": [
    "#Create CUDA context\n",
    "cuda_device = cuda_driver.Device(0)\n",
    "print(\"Using '{:s}'\".format(cuda_device.name()))\n",
    "print(\" => compute capability: {:s}\".format(str(cuda_device.compute_capability())))\n",
    "context = cuda_device.make_context()\n",
    "free, total = cuda_driver.mem_get_info()\n",
    "print(\" => memory: {:d} / {:d} MB available\".format(int(free/(1024*1024)), int(total/(1024*1024))))"
   ]
  },
  {
   "cell_type": "code",
   "execution_count": 28,
   "metadata": {},
   "outputs": [],
   "source": [
    "cuda_kernel = \"\"\"\n",
    "__global__ void addVectorKernel(float* c, float* a, float* b) {\n",
    "    unsigned int i = blockIdx.x*blockDim.x + threadIdx.x;\n",
    "    c[i] = a[i] + b[i];\n",
    "}\n",
    "\n",
    "__global__ void addMatrixKernel(float* c, float* a, float* b, int cols) {\n",
    "    unsigned int i=blockIdx.x*blockDim.x+threadIdx.x;\n",
    "    unsigned int j=blockIdx.y*blockDim.y+threadIdx.y;\n",
    "    \n",
    "    //Pseudocode\n",
    "    //c[j][i]=a[j][a]+b[j][i]\n",
    "    unsigned int k=j*cols+i;\n",
    "    \n",
    "    c[k]=a[k]+b[k];\n",
    "}\n",
    "\n",
    "//Note\n",
    "\n",
    "__global__ void matrixVectorKernel(float* c, float* A, float* b, int A_rows, int A_cols) {\n",
    "//Write for loop that computes the vector-vector inner product\n",
    "//of row j of A by our vector b and store results in c[j]\n",
    "// i index is always equal to 0\n",
    "\n",
    "    unsigned int j=blockIdx.y*blockDim.y + threadIdx.y;\n",
    "\n",
    "    float sum=0.0f;\n",
    "    \n",
    "    for (int i=0; i<A_cols; ++i) {\n",
    "        unsigned int k=j*A_cols+i;\n",
    "        sum +=A[k]*b[i];\n",
    "    }\n",
    "    \n",
    "    c[j]=sum;\n",
    "}\n",
    "\n",
    "\"\"\"\n",
    "module = cuda_compiler.SourceModule(cuda_kernel)\n",
    "kernel = module.get_function(\"matrixVectorKernel\");"
   ]
  },
  {
   "cell_type": "code",
   "execution_count": 16,
   "metadata": {},
   "outputs": [
    {
     "name": "stderr",
     "output_type": "stream",
     "text": [
      "/usr/lib/python3/dist-packages/matplotlib/figure.py:418: UserWarning: matplotlib is currently using a non-GUI backend, so cannot show the figure\n",
      "  \"matplotlib is currently using a non-GUI backend, \"\n"
     ]
    },
    {
     "data": {
      "image/png": "[encoded data removed]",
      "text/plain": [
       "<matplotlib.figure.Figure at 0x7f3cc7350940>"
      ]
     },
     "metadata": {
      "needs_background": "light"
     },
     "output_type": "display_data"
    }
   ],
   "source": [
    "#Size of our test\n",
    "A_size = (4,3)\n",
    "b_size = (3,1)\n",
    "c_size = (A_size[0],b_size[1])\n",
    "\n",
    "#Create test input / output data\n",
    "A = np.random.random(A_size).astype(np.float32)\n",
    "b = np.random.random(b_size).astype(np.float32)\n",
    "c = np.zeros(c_size).astype(np.float32)\n",
    "#c = np.ones(c_size).astype(np.float32)\n",
    "#c = np.empty(c_size).astype(np.float32)\n",
    "\n",
    "fig=plt.figure(figsize=(12,8))\n",
    "plt.imshow(A)\n",
    "plt.imshow(b)\n",
    "plt.imshow(c)\n",
    "plt.colorbar()\n",
    "fig.show()\n",
    "               "
   ]
  },
  {
   "cell_type": "code",
   "execution_count": 29,
   "metadata": {},
   "outputs": [],
   "source": [
    "#Upload data to the device\n",
    "#a(a_rows,a_cols) \n",
    "#b(a_cols,1) \n",
    "#c=(a_rows,1)\n",
    "a_g = GPUArray(A.shape, np.float32)\n",
    "b_g = GPUArray(b.shape, np.float32)\n",
    "a_g.set(A)\n",
    "b_g.set(b)"
   ]
  },
  {
   "cell_type": "code",
   "execution_count": 30,
   "metadata": {},
   "outputs": [],
   "source": [
    "#Allocate output data\n",
    "c_g = GPUArray(c.shape, np.float32)"
   ]
  },
  {
   "cell_type": "code",
   "execution_count": 31,
   "metadata": {},
   "outputs": [
    {
     "name": "stdout",
     "output_type": "stream",
     "text": [
      "Domain size is(4, 3)\n",
      "Block size is(1, 1, 1)\n",
      "Grid size is(1, 4, 1)\n"
     ]
    }
   ],
   "source": [
    "#a.shape=(row, cols)\n",
    "domain_size=(A.shape[0], A.shape[1])\n",
    "\n",
    "#Change this so that grid*block x=1 and y= rows of  A\n",
    "block_size=(1, 1, 1)\n",
    "#grid_size=(A_size[0]//block_size[0], A_size[1]//block_size[1], 1)\n",
    "grid_size=(1,c.shape[0],1)\n",
    "\n",
    "print(\"Domain size is\" + str(domain_size))\n",
    "print(\"Block size is\" + str(block_size))\n",
    "print(\"Grid size is\" + str(grid_size))"
   ]
  },
  {
   "cell_type": "code",
   "execution_count": 37,
   "metadata": {},
   "outputs": [
    {
     "data": {
      "text/plain": [
       "array([[0.69139576],\n",
       "       [0.4618702 ],\n",
       "       [0.5866505 ],\n",
       "       [0.73509634]], dtype=float32)"
      ]
     },
     "execution_count": 37,
     "metadata": {},
     "output_type": "execute_result"
    }
   ],
   "source": [
    "#Execute program on device\n",
    "kernel(c_g, a_g, b_g, np.int32(A.shape[0]), np.int32(A.shape[1]), block=block_size, grid=grid_size)\n",
    "\n",
    "#Copy data from device to host\n",
    "c_g.get(c)"
   ]
  },
  {
   "cell_type": "code",
   "execution_count": 39,
   "metadata": {},
   "outputs": [
    {
     "name": "stdout",
     "output_type": "stream",
     "text": [
      "C   =  [[0.69139576]\n",
      " [0.4618702 ]\n",
      " [0.5866505 ]\n",
      " [0.73509634]]\n",
      "Ref =  [[0.69139576]\n",
      " [0.4618702 ]\n",
      " [0.5866505 ]\n",
      " [0.73509634]]\n",
      "Sad =  0.0\n"
     ]
    }
   ],
   "source": [
    "#Compute reference using Numpy\n",
    "c_ref = np.dot(A,b)\n",
    "\n",
    "#Print result\n",
    "print(\"C   = \", c)\n",
    "print(\"Ref = \", c_ref)\n",
    "print(\"Sad = \", np.sum(np.abs(c - c_ref)))"
   ]
  },
  {
   "cell_type": "code",
   "execution_count": 40,
   "metadata": {},
   "outputs": [
    {
     "data": {
      "text/plain": [
       "<matplotlib.image.AxesImage at 0x7f3cc47a8198>"
      ]
     },
     "execution_count": 40,
     "metadata": {},
     "output_type": "execute_result"
    },
    {
     "data": {
      "image/png": "[encoded data removed]",
      "text/plain": [
       "<matplotlib.figure.Figure at 0x7f3cc48a5ef0>"
      ]
     },
     "metadata": {
      "needs_background": "light"
     },
     "output_type": "display_data"
    }
   ],
   "source": [
    "plt.figure()\n",
    "\n",
    "plt.subplot(1,2,1)\n",
    "plt.imshow(c)\n",
    "plt.subplot(1,2,2)\n",
    "plt.imshow(c_ref)"
   ]
  },
  {
   "cell_type": "code",
   "execution_count": null,
   "metadata": {},
   "outputs": [],
   "source": []
  }
 ],
 "metadata": {
  "kernelspec": {
   "display_name": "Python 3",
   "language": "python",
   "name": "python3"
  },
  "language_info": {
   "codemirror_mode": {
    "name": "ipython",
    "version": 3
   },
   "file_extension": ".py",
   "mimetype": "text/x-python",
   "name": "python",
   "nbconvert_exporter": "python",
   "pygments_lexer": "ipython3",
   "version": "3.6.6"
  }
 },
 "nbformat": 4,
 "nbformat_minor": 2
}
